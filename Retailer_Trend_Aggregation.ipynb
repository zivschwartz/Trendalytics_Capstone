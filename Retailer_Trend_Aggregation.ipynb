{
 "cells": [
  {
   "cell_type": "code",
   "execution_count": 2,
   "metadata": {},
   "outputs": [],
   "source": [
    "import pandas as pd\n",
    "import numpy as np\n",
    "import matplotlib\n",
    "import matplotlib.pyplot as plt\n",
    "import matplotlib.dates as mdates\n",
    "import pickle as pkl\n",
    "import json\n",
    "import requests\n",
    "from CP_trend import *\n",
    "from pandas.io.json import json_normalize\n",
    "#import statsmodels.api as sm\n",
    "import itertools\n",
    "from sklearn.cluster import KMeans\n",
    "\n",
    "%load_ext autoreload\n",
    "%autoreload 2\n",
    "%load_ext autotime"
   ]
  },
  {
   "cell_type": "code",
   "execution_count": 3,
   "metadata": {
    "scrolled": true
   },
   "outputs": [
    {
     "name": "stdout",
     "output_type": "stream",
     "text": [
      "calculating t0 for neon\n",
      "calculating t0 for paper bag waist\n",
      "calculating t0 for high waisted jeans\n",
      "calculating t0 for animal print\n",
      "calculating t0 for open shoulder\n",
      "calculating t0 for puff sleeve\n",
      "calculating t0 for black cargo pants\n",
      "calculating t0 for neon\n",
      "calculating t0 for paper bag waist\n",
      "calculating t0 for high waisted jeans\n",
      "calculating t0 for animal print\n",
      "calculating t0 for open shoulder\n",
      "calculating t0 for puff sleeve\n",
      "calculating t0 for black cargo pants\n",
      "calculating t0 for neon\n",
      "calculating t0 for paper bag waist\n",
      "calculating t0 for high waisted jeans\n",
      "calculating t0 for animal print\n",
      "calculating t0 for open shoulder\n",
      "calculating t0 for puff sleeve\n",
      "calculating t0 for black cargo pants\n",
      "time: 12.3 s\n"
     ]
    }
   ],
   "source": [
    "search_data = pkl.load(open(\"./data/search_data_2019-09.pkl\", \"rb\"))\n",
    "trends = ['neon', 'paper bag waist', 'high waisted jeans','animal print', 'open shoulder', 'puff sleeve', 'black cargo pants']\n",
    "trends_t0 = [return_t0(t,search_data) for t in trends]\n",
    "market_data = pd.read_csv('df_cnt_comb120119.csv',index_col=0)\n",
    "week_cols = ['3/25/18', '4/1/18', '4/8/18', '4/15/18', '4/22/18', '4/29/18',\n",
    "       '5/6/18', '5/13/18', '5/20/18', '5/27/18', '6/3/18', '6/10/18',\n",
    "       '6/17/18', '6/24/18', '7/1/18', '7/8/18', '7/15/18', '7/22/18',\n",
    "       '7/29/18', '8/5/18', '8/12/18', '8/19/18', '8/26/18', '9/2/18',\n",
    "       '9/9/18', '9/16/18', '9/23/18', '9/30/18', '10/7/18', '10/14/18',\n",
    "       '10/21/18', '10/28/18', '11/4/18', '11/11/18', '11/18/18', '11/25/18',\n",
    "       '12/2/18', '12/9/18', '12/16/18', '12/23/18', '12/30/18', '1/6/19',\n",
    "       '1/13/19', '1/20/19', '1/27/19', '2/3/19', '2/10/19', '2/17/19',\n",
    "       '2/24/19', '3/3/19', '3/10/19', '3/17/19', '3/24/19', '3/31/19',\n",
    "       '4/7/19', '4/14/19', '4/21/19', '4/28/19', '5/5/19', '5/12/19',\n",
    "       '5/19/19', '5/26/19', '6/2/19', '6/9/19', '6/16/19', '6/23/19',\n",
    "       '6/30/19', '7/7/19', '7/14/19', '7/21/19', '7/28/19', '8/4/19',\n",
    "       '8/11/19', '8/18/19', '8/25/19', '9/1/19', '9/8/19', '9/15/19',\n",
    "       '9/22/19', '9/29/19', '10/6/19', '10/13/19', '10/20/19']\n",
    "combined_df = combined_retailers_and_trends(search_data,market_data,trends,week_cols)"
   ]
  },
  {
   "cell_type": "code",
   "execution_count": 4,
   "metadata": {},
   "outputs": [
    {
     "data": {
      "text/html": [
       "<div>\n",
       "<style scoped>\n",
       "    .dataframe tbody tr th:only-of-type {\n",
       "        vertical-align: middle;\n",
       "    }\n",
       "\n",
       "    .dataframe tbody tr th {\n",
       "        vertical-align: top;\n",
       "    }\n",
       "\n",
       "    .dataframe thead th {\n",
       "        text-align: right;\n",
       "    }\n",
       "</style>\n",
       "<table border=\"1\" class=\"dataframe\">\n",
       "  <thead>\n",
       "    <tr style=\"text-align: right;\">\n",
       "      <th></th>\n",
       "      <th>retailer</th>\n",
       "      <th>Market Index</th>\n",
       "      <th>weighted_delta_t0_wk</th>\n",
       "      <th>weighted_del_log_slope</th>\n",
       "    </tr>\n",
       "  </thead>\n",
       "  <tbody>\n",
       "    <tr>\n",
       "      <td>0</td>\n",
       "      <td>Alice + Olivia</td>\n",
       "      <td>Contemporary Index</td>\n",
       "      <td>10.673188</td>\n",
       "      <td>-1.463020</td>\n",
       "    </tr>\n",
       "    <tr>\n",
       "      <td>0</td>\n",
       "      <td>Isabel Marant</td>\n",
       "      <td>Contemporary Index</td>\n",
       "      <td>22.000000</td>\n",
       "      <td>-3.582667</td>\n",
       "    </tr>\n",
       "    <tr>\n",
       "      <td>0</td>\n",
       "      <td>Sandro</td>\n",
       "      <td>Contemporary Index</td>\n",
       "      <td>49.273438</td>\n",
       "      <td>-3.728646</td>\n",
       "    </tr>\n",
       "    <tr>\n",
       "      <td>0</td>\n",
       "      <td>AllSaints</td>\n",
       "      <td>Contemporary Index</td>\n",
       "      <td>3.937973</td>\n",
       "      <td>-0.459827</td>\n",
       "    </tr>\n",
       "    <tr>\n",
       "      <td>0</td>\n",
       "      <td>Acne Studios</td>\n",
       "      <td>Contemporary Index</td>\n",
       "      <td>17.636719</td>\n",
       "      <td>-3.121026</td>\n",
       "    </tr>\n",
       "    <tr>\n",
       "      <td>...</td>\n",
       "      <td>...</td>\n",
       "      <td>...</td>\n",
       "      <td>...</td>\n",
       "      <td>...</td>\n",
       "    </tr>\n",
       "    <tr>\n",
       "      <td>0</td>\n",
       "      <td>J.Crew</td>\n",
       "      <td>Specialty/DTC Index</td>\n",
       "      <td>5.465033</td>\n",
       "      <td>-0.453653</td>\n",
       "    </tr>\n",
       "    <tr>\n",
       "      <td>0</td>\n",
       "      <td>Ann Taylor</td>\n",
       "      <td>Specialty/DTC Index</td>\n",
       "      <td>5.575623</td>\n",
       "      <td>-0.725137</td>\n",
       "    </tr>\n",
       "    <tr>\n",
       "      <td>0</td>\n",
       "      <td>Banana Republic</td>\n",
       "      <td>Specialty/DTC Index</td>\n",
       "      <td>3.028098</td>\n",
       "      <td>-0.500984</td>\n",
       "    </tr>\n",
       "    <tr>\n",
       "      <td>0</td>\n",
       "      <td>Reformation</td>\n",
       "      <td>Specialty/DTC Index</td>\n",
       "      <td>11.380326</td>\n",
       "      <td>-1.107729</td>\n",
       "    </tr>\n",
       "    <tr>\n",
       "      <td>0</td>\n",
       "      <td>Universal Standard</td>\n",
       "      <td>Specialty/DTC Index</td>\n",
       "      <td>12.000000</td>\n",
       "      <td>-4.090892</td>\n",
       "    </tr>\n",
       "  </tbody>\n",
       "</table>\n",
       "<p>63 rows × 4 columns</p>\n",
       "</div>"
      ],
      "text/plain": [
       "              retailer         Market Index  weighted_delta_t0_wk  \\\n",
       "0       Alice + Olivia   Contemporary Index             10.673188   \n",
       "0        Isabel Marant   Contemporary Index             22.000000   \n",
       "0               Sandro   Contemporary Index             49.273438   \n",
       "0            AllSaints   Contemporary Index              3.937973   \n",
       "0         Acne Studios   Contemporary Index             17.636719   \n",
       "..                 ...                  ...                   ...   \n",
       "0               J.Crew  Specialty/DTC Index              5.465033   \n",
       "0           Ann Taylor  Specialty/DTC Index              5.575623   \n",
       "0      Banana Republic  Specialty/DTC Index              3.028098   \n",
       "0          Reformation  Specialty/DTC Index             11.380326   \n",
       "0   Universal Standard  Specialty/DTC Index             12.000000   \n",
       "\n",
       "    weighted_del_log_slope  \n",
       "0                -1.463020  \n",
       "0                -3.582667  \n",
       "0                -3.728646  \n",
       "0                -0.459827  \n",
       "0                -3.121026  \n",
       "..                     ...  \n",
       "0                -0.453653  \n",
       "0                -0.725137  \n",
       "0                -0.500984  \n",
       "0                -1.107729  \n",
       "0                -4.090892  \n",
       "\n",
       "[63 rows x 4 columns]"
      ]
     },
     "execution_count": 4,
     "metadata": {},
     "output_type": "execute_result"
    },
    {
     "name": "stdout",
     "output_type": "stream",
     "text": [
      "time: 1.81 s\n"
     ]
    }
   ],
   "source": [
    "cluster_df = combined_weighted_data(combined_df, market_data, week_cols)\n",
    "cluster_df"
   ]
  },
  {
   "cell_type": "code",
   "execution_count": null,
   "metadata": {},
   "outputs": [],
   "source": [
    "# def kMeansClustering(cluster_df, k, makeplot=False):\n",
    "#     #add market index label\n",
    "#     market_indices = np.unique(cluster_df['Market Index'].values)\n",
    "#     market_index_labels = {market_indices[i]:i for i in range(len(market_indices))} #map\n",
    "#     X = cluster_df[['weighted_delta_t0_wk','weighted_del_log_slope','Market Index']]\n",
    "#     X['Market Index Label'] = X['Market Index'].map(market_index_labels)\n",
    "    \n",
    "#     #perform kmeans clustering\n",
    "#     kmeans = KMeans(n_clusters=k)\n",
    "#     x = X['weighted_delta_t0_wk']\n",
    "#     y = X['weighted_del_log_slope']\n",
    "#     y_pred = kmeans.fit_predict(X[['weighted_delta_t0_wk','weighted_del_log_slope']])\n",
    "    \n",
    "#     if makeplot:\n",
    "#         #plot actual clusters\n",
    "#         plt.scatter(x,y,c=X['Market Index Label'])\n",
    "#         plt.title(\"Actual Clusters\")\n",
    "#         plt.show()\n",
    "        \n",
    "#         #plot predicted clusters\n",
    "#         plt.scatter(x,y_pred,c=y_pred)\n",
    "#         plt.title(\"Predicted Clusters\")\n",
    "#         plt.show()"
   ]
  },
  {
   "cell_type": "code",
   "execution_count": 6,
   "metadata": {},
   "outputs": [
    {
     "data": {
      "image/png": "[encoded data removed]",
      "text/plain": [
       "<Figure size 432x288 with 1 Axes>"
      ]
     },
     "metadata": {},
     "output_type": "display_data"
    },
    {
     "data": {
      "image/png": "[encoded data removed]",
      "text/plain": [
       "<Figure size 432x288 with 1 Axes>"
      ]
     },
     "metadata": {},
     "output_type": "display_data"
    },
    {
     "name": "stdout",
     "output_type": "stream",
     "text": [
      "time: 293 ms\n"
     ]
    }
   ],
   "source": [
    "kMeansClustering(cluster_df,5,makeplot=True)"
   ]
  },
  {
   "cell_type": "code",
   "execution_count": null,
   "metadata": {},
   "outputs": [],
   "source": []
  }
 ],
 "metadata": {
  "kernelspec": {
   "display_name": "Python 3",
   "language": "python",
   "name": "python3"
  },
  "language_info": {
   "codemirror_mode": {
    "name": "ipython",
    "version": 3
   },
   "file_extension": ".py",
   "mimetype": "text/x-python",
   "name": "python",
   "nbconvert_exporter": "python",
   "pygments_lexer": "ipython3",
   "version": "3.7.5"
  }
 },
 "nbformat": 4,
 "nbformat_minor": 2
}
